{
 "cells": [
  {
   "cell_type": "code",
   "execution_count": 1,
   "id": "ab09689c",
   "metadata": {},
   "outputs": [
    {
     "name": "stdout",
     "output_type": "stream",
     "text": [
      "Requirement already satisfied: openai in c:\\virtual_env\\venv_web\\lib\\site-packages (1.86.0)\n",
      "Requirement already satisfied: anyio<5,>=3.5.0 in c:\\virtual_env\\venv_web\\lib\\site-packages (from openai) (4.9.0)\n",
      "Requirement already satisfied: distro<2,>=1.7.0 in c:\\virtual_env\\venv_web\\lib\\site-packages (from openai) (1.9.0)\n",
      "Requirement already satisfied: httpx<1,>=0.23.0 in c:\\virtual_env\\venv_web\\lib\\site-packages (from openai) (0.28.1)\n",
      "Requirement already satisfied: jiter<1,>=0.4.0 in c:\\virtual_env\\venv_web\\lib\\site-packages (from openai) (0.10.0)\n",
      "Requirement already satisfied: pydantic<3,>=1.9.0 in c:\\virtual_env\\venv_web\\lib\\site-packages (from openai) (2.11.7)\n",
      "Requirement already satisfied: sniffio in c:\\virtual_env\\venv_web\\lib\\site-packages (from openai) (1.3.1)\n",
      "Requirement already satisfied: tqdm>4 in c:\\virtual_env\\venv_web\\lib\\site-packages (from openai) (4.67.1)\n",
      "Requirement already satisfied: typing-extensions<5,>=4.11 in c:\\virtual_env\\venv_web\\lib\\site-packages (from openai) (4.13.2)\n",
      "Requirement already satisfied: idna>=2.8 in c:\\virtual_env\\venv_web\\lib\\site-packages (from anyio<5,>=3.5.0->openai) (3.10)\n",
      "Requirement already satisfied: certifi in c:\\virtual_env\\venv_web\\lib\\site-packages (from httpx<1,>=0.23.0->openai) (2025.4.26)\n",
      "Requirement already satisfied: httpcore==1.* in c:\\virtual_env\\venv_web\\lib\\site-packages (from httpx<1,>=0.23.0->openai) (1.0.9)\n",
      "Requirement already satisfied: h11>=0.16 in c:\\virtual_env\\venv_web\\lib\\site-packages (from httpcore==1.*->httpx<1,>=0.23.0->openai) (0.16.0)\n",
      "Requirement already satisfied: annotated-types>=0.6.0 in c:\\virtual_env\\venv_web\\lib\\site-packages (from pydantic<3,>=1.9.0->openai) (0.7.0)\n",
      "Requirement already satisfied: pydantic-core==2.33.2 in c:\\virtual_env\\venv_web\\lib\\site-packages (from pydantic<3,>=1.9.0->openai) (2.33.2)\n",
      "Requirement already satisfied: typing-inspection>=0.4.0 in c:\\virtual_env\\venv_web\\lib\\site-packages (from pydantic<3,>=1.9.0->openai) (0.4.1)\n",
      "Requirement already satisfied: colorama in c:\\virtual_env\\venv_web\\lib\\site-packages (from tqdm>4->openai) (0.4.6)\n"
     ]
    },
    {
     "name": "stderr",
     "output_type": "stream",
     "text": [
      "\n",
      "[notice] A new release of pip is available: 24.2 -> 25.1.1\n",
      "[notice] To update, run: python.exe -m pip install --upgrade pip\n"
     ]
    },
    {
     "name": "stdout",
     "output_type": "stream",
     "text": [
      "Requirement already satisfied: datasets in c:\\virtual_env\\venv_web\\lib\\site-packages (3.6.0)\n",
      "Requirement already satisfied: filelock in c:\\virtual_env\\venv_web\\lib\\site-packages (from datasets) (3.18.0)\n",
      "Requirement already satisfied: numpy>=1.17 in c:\\virtual_env\\venv_web\\lib\\site-packages (from datasets) (2.3.0)\n",
      "Requirement already satisfied: pyarrow>=15.0.0 in c:\\virtual_env\\venv_web\\lib\\site-packages (from datasets) (20.0.0)\n",
      "Requirement already satisfied: dill<0.3.9,>=0.3.0 in c:\\virtual_env\\venv_web\\lib\\site-packages (from datasets) (0.3.8)\n",
      "Requirement already satisfied: pandas in c:\\virtual_env\\venv_web\\lib\\site-packages (from datasets) (2.3.0)\n",
      "Requirement already satisfied: requests>=2.32.2 in c:\\virtual_env\\venv_web\\lib\\site-packages (from datasets) (2.32.3)\n",
      "Requirement already satisfied: tqdm>=4.66.3 in c:\\virtual_env\\venv_web\\lib\\site-packages (from datasets) (4.67.1)\n",
      "Requirement already satisfied: xxhash in c:\\virtual_env\\venv_web\\lib\\site-packages (from datasets) (3.5.0)\n",
      "Requirement already satisfied: multiprocess<0.70.17 in c:\\virtual_env\\venv_web\\lib\\site-packages (from datasets) (0.70.16)\n",
      "Requirement already satisfied: fsspec<=2025.3.0,>=2023.1.0 in c:\\virtual_env\\venv_web\\lib\\site-packages (from fsspec[http]<=2025.3.0,>=2023.1.0->datasets) (2025.3.0)\n",
      "Requirement already satisfied: huggingface-hub>=0.24.0 in c:\\virtual_env\\venv_web\\lib\\site-packages (from datasets) (0.33.0)\n",
      "Requirement already satisfied: packaging in c:\\virtual_env\\venv_web\\lib\\site-packages (from datasets) (25.0)\n",
      "Requirement already satisfied: pyyaml>=5.1 in c:\\virtual_env\\venv_web\\lib\\site-packages (from datasets) (6.0.2)\n",
      "Requirement already satisfied: aiohttp!=4.0.0a0,!=4.0.0a1 in c:\\virtual_env\\venv_web\\lib\\site-packages (from fsspec[http]<=2025.3.0,>=2023.1.0->datasets) (3.12.12)\n",
      "Requirement already satisfied: typing-extensions>=3.7.4.3 in c:\\virtual_env\\venv_web\\lib\\site-packages (from huggingface-hub>=0.24.0->datasets) (4.13.2)\n",
      "Requirement already satisfied: charset-normalizer<4,>=2 in c:\\virtual_env\\venv_web\\lib\\site-packages (from requests>=2.32.2->datasets) (3.4.2)\n",
      "Requirement already satisfied: idna<4,>=2.5 in c:\\virtual_env\\venv_web\\lib\\site-packages (from requests>=2.32.2->datasets) (3.10)\n",
      "Requirement already satisfied: urllib3<3,>=1.21.1 in c:\\virtual_env\\venv_web\\lib\\site-packages (from requests>=2.32.2->datasets) (2.4.0)\n",
      "Requirement already satisfied: certifi>=2017.4.17 in c:\\virtual_env\\venv_web\\lib\\site-packages (from requests>=2.32.2->datasets) (2025.4.26)\n",
      "Requirement already satisfied: colorama in c:\\virtual_env\\venv_web\\lib\\site-packages (from tqdm>=4.66.3->datasets) (0.4.6)\n",
      "Requirement already satisfied: python-dateutil>=2.8.2 in c:\\virtual_env\\venv_web\\lib\\site-packages (from pandas->datasets) (2.9.0.post0)\n",
      "Requirement already satisfied: pytz>=2020.1 in c:\\virtual_env\\venv_web\\lib\\site-packages (from pandas->datasets) (2025.2)\n",
      "Requirement already satisfied: tzdata>=2022.7 in c:\\virtual_env\\venv_web\\lib\\site-packages (from pandas->datasets) (2025.2)\n",
      "Requirement already satisfied: aiohappyeyeballs>=2.5.0 in c:\\virtual_env\\venv_web\\lib\\site-packages (from aiohttp!=4.0.0a0,!=4.0.0a1->fsspec[http]<=2025.3.0,>=2023.1.0->datasets) (2.6.1)\n",
      "Requirement already satisfied: aiosignal>=1.1.2 in c:\\virtual_env\\venv_web\\lib\\site-packages (from aiohttp!=4.0.0a0,!=4.0.0a1->fsspec[http]<=2025.3.0,>=2023.1.0->datasets) (1.3.2)\n",
      "Requirement already satisfied: attrs>=17.3.0 in c:\\virtual_env\\venv_web\\lib\\site-packages (from aiohttp!=4.0.0a0,!=4.0.0a1->fsspec[http]<=2025.3.0,>=2023.1.0->datasets) (25.3.0)\n",
      "Requirement already satisfied: frozenlist>=1.1.1 in c:\\virtual_env\\venv_web\\lib\\site-packages (from aiohttp!=4.0.0a0,!=4.0.0a1->fsspec[http]<=2025.3.0,>=2023.1.0->datasets) (1.7.0)\n",
      "Requirement already satisfied: multidict<7.0,>=4.5 in c:\\virtual_env\\venv_web\\lib\\site-packages (from aiohttp!=4.0.0a0,!=4.0.0a1->fsspec[http]<=2025.3.0,>=2023.1.0->datasets) (6.4.4)\n",
      "Requirement already satisfied: propcache>=0.2.0 in c:\\virtual_env\\venv_web\\lib\\site-packages (from aiohttp!=4.0.0a0,!=4.0.0a1->fsspec[http]<=2025.3.0,>=2023.1.0->datasets) (0.3.2)\n",
      "Requirement already satisfied: yarl<2.0,>=1.17.0 in c:\\virtual_env\\venv_web\\lib\\site-packages (from aiohttp!=4.0.0a0,!=4.0.0a1->fsspec[http]<=2025.3.0,>=2023.1.0->datasets) (1.20.1)\n",
      "Requirement already satisfied: six>=1.5 in c:\\virtual_env\\venv_web\\lib\\site-packages (from python-dateutil>=2.8.2->pandas->datasets) (1.17.0)\n"
     ]
    },
    {
     "name": "stderr",
     "output_type": "stream",
     "text": [
      "\n",
      "[notice] A new release of pip is available: 24.2 -> 25.1.1\n",
      "[notice] To update, run: python.exe -m pip install --upgrade pip\n"
     ]
    }
   ],
   "source": [
    "!pip install openai\n",
    "!pip install datasets"
   ]
  },
  {
   "cell_type": "code",
   "execution_count": null,
   "id": "8ddf2878",
   "metadata": {},
   "outputs": [
    {
     "name": "stderr",
     "output_type": "stream",
     "text": [
      "c:\\virtual_env\\venv_Web\\Lib\\site-packages\\tqdm\\auto.py:21: TqdmWarning: IProgress not found. Please update jupyter and ipywidgets. See https://ipywidgets.readthedocs.io/en/stable/user_install.html\n",
      "  from .autonotebook import tqdm as notebook_tqdm\n"
     ]
    },
    {
     "name": "stdout",
     "output_type": "stream",
     "text": [
      "Téléchargement en streaming de trivia_qa (unfiltered)...\n",
      "Sauvegardé sous ./mini_benchmark_data\\triviaqa_sample.json\n",
      "\n",
      "Téléchargement en streaming de natural_questions (None)...\n",
      "Sauvegardé sous ./mini_benchmark_data\\naturalqa_sample.json\n",
      "\n",
      "Téléchargement en streaming de kkkevinkkk/SituatedFaithfulnessEval (clasheval)...\n",
      "Sauvegardé sous ./mini_benchmark_data\\clasheval_sample.json\n",
      "\n",
      "Téléchargement en streaming de kkkevinkkk/SituatedFaithfulnessEval (redditqa)...\n",
      "Sauvegardé sous ./mini_benchmark_data\\redditqa_sample.json\n",
      "\n",
      "\n",
      "Tous les datasets ont été téléchargés en streaming et sauvegardés localement dans: ./mini_benchmark_data\n"
     ]
    }
   ],
   "source": [
    "from datasets import load_dataset\n",
    "import os\n",
    "import json\n",
    "from itertools import islice\n",
    "\n",
    "# Créer un dossier local pour stocker les datasets\n",
    "output_dir = \"./mini_benchmark_data\"\n",
    "os.makedirs(output_dir, exist_ok=True)\n",
    "\n",
    "# Fonction utilitaire pour télécharger et sauvegarder un échantillon en streaming\n",
    "\n",
    "\n",
    "def stream_and_save(dataset_name, subset_name, split, filename, num_samples=200):\n",
    "    print(f\"Téléchargement en streaming de {dataset_name} ({subset_name})...\")\n",
    "\n",
    "    if subset_name is not None:\n",
    "        dataset_stream = load_dataset(\n",
    "            dataset_name, subset_name, split=split, streaming=True)\n",
    "    else:\n",
    "        dataset_stream = load_dataset(\n",
    "            dataset_name, split=split, streaming=True)\n",
    "\n",
    "    # Prendre les N premiers exemples\n",
    "    sampled_data = list(islice(dataset_stream, num_samples))\n",
    "\n",
    "    # Sauvegarde au format JSON\n",
    "    save_path = os.path.join(output_dir, filename)\n",
    "    with open(save_path, \"w\", encoding=\"utf-8\") as f:\n",
    "        for item in sampled_data:\n",
    "            json.dump(item, f)\n",
    "            f.write(\"\\n\")\n",
    "\n",
    "    print(f\"Sauvegardé sous {save_path}\\n\")\n",
    "\n",
    "\n",
    "# TriviaQA\n",
    "stream_and_save(\"trivia_qa\", \"unfiltered\", \"train\", \"triviaqa_sample.json\")\n",
    "\n",
    "# NaturalQA\n",
    "stream_and_save(\"natural_questions\", None, \"train\", \"naturalqa_sample.json\")\n",
    "\n",
    "# ClashEval\n",
    "stream_and_save(\"kkkevinkkk/SituatedFaithfulnessEval\",\n",
    "                \"clasheval\", \"test\", \"clasheval_sample.json\")\n",
    "\n",
    "# RedditQA\n",
    "stream_and_save(\"kkkevinkkk/SituatedFaithfulnessEval\",\n",
    "                \"redditqa\", \"test\", \"redditqa_sample.json\")\n",
    "\n",
    "\n",
    "print(\"\\nTous les datasets ont été téléchargés en streaming et sauvegardés localement dans:\", output_dir)"
   ]
  }
 ],
 "metadata": {
  "kernelspec": {
   "display_name": "venv_Web",
   "language": "python",
   "name": "python3"
  },
  "language_info": {
   "codemirror_mode": {
    "name": "ipython",
    "version": 3
   },
   "file_extension": ".py",
   "mimetype": "text/x-python",
   "name": "python",
   "nbconvert_exporter": "python",
   "pygments_lexer": "ipython3",
   "version": "3.12.7"
  }
 },
 "nbformat": 4,
 "nbformat_minor": 5
}
