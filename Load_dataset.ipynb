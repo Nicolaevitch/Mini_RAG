{
 "cells": [
  {
   "cell_type": "code",
   "execution_count": 4,
   "id": "8ddf2878",
   "metadata": {},
   "outputs": [
    {
     "name": "stdout",
     "output_type": "stream",
     "text": [
      "Téléchargement en streaming de trivia_qa (unfiltered)...\n",
      "Sauvegardé sous ./mini_benchmark_data\\triviaqa_sample.json\n",
      "\n",
      "Téléchargement en streaming de natural_questions (None)...\n",
      "Sauvegardé sous ./mini_benchmark_data\\naturalqa_sample.json\n",
      "\n",
      "Téléchargement en streaming de kkkevinkkk/SituatedFaithfulnessEval (clasheval)...\n",
      "Sauvegardé sous ./mini_benchmark_data\\clasheval_sample.json\n",
      "\n",
      "Téléchargement en streaming de kkkevinkkk/SituatedFaithfulnessEval (redditqa)...\n",
      "Sauvegardé sous ./mini_benchmark_data\\redditqa_sample.json\n",
      "\n",
      "\n",
      "Tous les datasets ont été téléchargés en streaming et sauvegardés localement dans: ./mini_benchmark_data\n"
     ]
    }
   ],
   "source": [
    "from datasets import load_dataset\n",
    "import os\n",
    "import json\n",
    "from itertools import islice\n",
    "\n",
    "# Créer un dossier local pour stocker les datasets\n",
    "output_dir = \"./mini_benchmark_data\"\n",
    "os.makedirs(output_dir, exist_ok=True)\n",
    "\n",
    "# Fonction utilitaire pour télécharger et sauvegarder un échantillon en streaming\n",
    "def stream_and_save(dataset_name, subset_name, split, filename, num_samples=200):\n",
    "    print(f\"Téléchargement en streaming de {dataset_name} ({subset_name})...\")\n",
    "\n",
    "    if subset_name is not None:\n",
    "        dataset_stream = load_dataset(dataset_name, subset_name, split=split, streaming=True)\n",
    "    else:\n",
    "        dataset_stream = load_dataset(dataset_name, split=split, streaming=True)\n",
    "\n",
    "    # Prendre les N premiers exemples\n",
    "    sampled_data = list(islice(dataset_stream, num_samples))\n",
    "\n",
    "    # Sauvegarde au format JSON\n",
    "    save_path = os.path.join(output_dir, filename)\n",
    "    with open(save_path, \"w\", encoding=\"utf-8\") as f:\n",
    "        for item in sampled_data:\n",
    "            json.dump(item, f)\n",
    "            f.write(\"\\n\")\n",
    "\n",
    "    print(f\"Sauvegardé sous {save_path}\\n\")\n",
    "\n",
    "# TriviaQA\n",
    "stream_and_save(\"trivia_qa\", \"unfiltered\", \"train\", \"triviaqa_sample.json\")\n",
    "\n",
    "# NaturalQA (Natural Questions)\n",
    "stream_and_save(\"natural_questions\", None, \"train\", \"naturalqa_sample.json\")\n",
    "\n",
    "# ClashEval\n",
    "stream_and_save(\"kkkevinkkk/SituatedFaithfulnessEval\", \"clasheval\", \"test\", \"clasheval_sample.json\")\n",
    "\n",
    "# RedditQA\n",
    "stream_and_save(\"kkkevinkkk/SituatedFaithfulnessEval\", \"redditqa\", \"test\", \"redditqa_sample.json\")\n",
    "\n",
    "\n",
    "print(\"\\nTous les datasets ont été téléchargés en streaming et sauvegardés localement dans:\", output_dir)\n",
    "\n"
   ]
  },
  {
   "cell_type": "code",
   "execution_count": 6,
   "id": "ab09689c",
   "metadata": {},
   "outputs": [
    {
     "name": "stdout",
     "output_type": "stream",
     "text": [
      "Collecting openai\n",
      "  Downloading openai-1.86.0-py3-none-any.whl.metadata (25 kB)\n",
      "Collecting anyio<5,>=3.5.0 (from openai)\n",
      "  Downloading anyio-4.9.0-py3-none-any.whl.metadata (4.7 kB)\n",
      "Collecting distro<2,>=1.7.0 (from openai)\n",
      "  Downloading distro-1.9.0-py3-none-any.whl.metadata (6.8 kB)\n",
      "Collecting httpx<1,>=0.23.0 (from openai)\n",
      "  Downloading httpx-0.28.1-py3-none-any.whl.metadata (7.1 kB)\n",
      "Collecting jiter<1,>=0.4.0 (from openai)\n",
      "  Downloading jiter-0.10.0-cp311-cp311-win_amd64.whl.metadata (5.3 kB)\n",
      "Collecting pydantic<3,>=1.9.0 (from openai)\n",
      "  Downloading pydantic-2.11.5-py3-none-any.whl.metadata (67 kB)\n",
      "     ---------------------------------------- 0.0/67.2 kB ? eta -:--:--\n",
      "     ---------------------------------------- 67.2/67.2 kB 3.8 MB/s eta 0:00:00\n",
      "Requirement already satisfied: sniffio in c:\\users\\meyrueis\\appdata\\local\\packages\\pythonsoftwarefoundation.python.3.11_qbz5n2kfra8p0\\localcache\\local-packages\\python311\\site-packages (from openai) (1.3.1)\n",
      "Requirement already satisfied: tqdm>4 in c:\\users\\meyrueis\\appdata\\local\\packages\\pythonsoftwarefoundation.python.3.11_qbz5n2kfra8p0\\localcache\\local-packages\\python311\\site-packages (from openai) (4.67.1)\n",
      "Requirement already satisfied: typing-extensions<5,>=4.11 in c:\\users\\meyrueis\\appdata\\local\\packages\\pythonsoftwarefoundation.python.3.11_qbz5n2kfra8p0\\localcache\\local-packages\\python311\\site-packages (from openai) (4.12.2)\n",
      "Requirement already satisfied: idna>=2.8 in c:\\users\\meyrueis\\appdata\\local\\packages\\pythonsoftwarefoundation.python.3.11_qbz5n2kfra8p0\\localcache\\local-packages\\python311\\site-packages (from anyio<5,>=3.5.0->openai) (3.10)\n",
      "Requirement already satisfied: certifi in c:\\users\\meyrueis\\appdata\\local\\packages\\pythonsoftwarefoundation.python.3.11_qbz5n2kfra8p0\\localcache\\local-packages\\python311\\site-packages (from httpx<1,>=0.23.0->openai) (2025.4.26)\n",
      "Collecting httpcore==1.* (from httpx<1,>=0.23.0->openai)\n",
      "  Downloading httpcore-1.0.9-py3-none-any.whl.metadata (21 kB)\n",
      "Requirement already satisfied: h11>=0.16 in c:\\users\\meyrueis\\appdata\\local\\packages\\pythonsoftwarefoundation.python.3.11_qbz5n2kfra8p0\\localcache\\local-packages\\python311\\site-packages (from httpcore==1.*->httpx<1,>=0.23.0->openai) (0.16.0)\n",
      "Collecting annotated-types>=0.6.0 (from pydantic<3,>=1.9.0->openai)\n",
      "  Downloading annotated_types-0.7.0-py3-none-any.whl.metadata (15 kB)\n",
      "Collecting pydantic-core==2.33.2 (from pydantic<3,>=1.9.0->openai)\n",
      "  Downloading pydantic_core-2.33.2-cp311-cp311-win_amd64.whl.metadata (6.9 kB)\n",
      "Collecting typing-inspection>=0.4.0 (from pydantic<3,>=1.9.0->openai)\n",
      "  Downloading typing_inspection-0.4.1-py3-none-any.whl.metadata (2.6 kB)\n",
      "Requirement already satisfied: colorama in c:\\users\\meyrueis\\appdata\\local\\packages\\pythonsoftwarefoundation.python.3.11_qbz5n2kfra8p0\\localcache\\local-packages\\python311\\site-packages (from tqdm>4->openai) (0.4.6)\n",
      "Downloading openai-1.86.0-py3-none-any.whl (730 kB)\n",
      "   ---------------------------------------- 0.0/730.3 kB ? eta -:--:--\n",
      "   ---------------------- ----------------- 419.8/730.3 kB 8.7 MB/s eta 0:00:01\n",
      "   ---------------------------------------- 730.3/730.3 kB 7.7 MB/s eta 0:00:00\n",
      "Downloading anyio-4.9.0-py3-none-any.whl (100 kB)\n",
      "   ---------------------------------------- 0.0/100.9 kB ? eta -:--:--\n",
      "   ---------------------------------------- 100.9/100.9 kB 5.7 MB/s eta 0:00:00\n",
      "Downloading distro-1.9.0-py3-none-any.whl (20 kB)\n",
      "Downloading httpx-0.28.1-py3-none-any.whl (73 kB)\n",
      "   ---------------------------------------- 0.0/73.5 kB ? eta -:--:--\n",
      "   ---------------------------------------- 73.5/73.5 kB 2.0 MB/s eta 0:00:00\n",
      "Downloading httpcore-1.0.9-py3-none-any.whl (78 kB)\n",
      "   ---------------------------------------- 0.0/78.8 kB ? eta -:--:--\n",
      "   ---------------------------------------- 78.8/78.8 kB 4.3 MB/s eta 0:00:00\n",
      "Downloading jiter-0.10.0-cp311-cp311-win_amd64.whl (209 kB)\n",
      "   ---------------------------------------- 0.0/209.2 kB ? eta -:--:--\n",
      "   ---------------------------------------- 209.2/209.2 kB 6.2 MB/s eta 0:00:00\n",
      "Downloading pydantic-2.11.5-py3-none-any.whl (444 kB)\n",
      "   ---------------------------------------- 0.0/444.2 kB ? eta -:--:--\n",
      "   --------------------------------------  440.3/444.2 kB 13.4 MB/s eta 0:00:01\n",
      "   ---------------------------------------- 444.2/444.2 kB 6.9 MB/s eta 0:00:00\n",
      "Downloading pydantic_core-2.33.2-cp311-cp311-win_amd64.whl (2.0 MB)\n",
      "   ---------------------------------------- 0.0/2.0 MB ? eta -:--:--\n",
      "   ----------- ---------------------------- 0.6/2.0 MB 11.8 MB/s eta 0:00:01\n",
      "   ---------------------- ----------------- 1.1/2.0 MB 11.4 MB/s eta 0:00:01\n",
      "   --------------------------------- ------ 1.6/2.0 MB 11.7 MB/s eta 0:00:01\n",
      "   ---------------------------------------  1.9/2.0 MB 11.3 MB/s eta 0:00:01\n",
      "   ---------------------------------------- 2.0/2.0 MB 10.4 MB/s eta 0:00:00\n",
      "Downloading annotated_types-0.7.0-py3-none-any.whl (13 kB)\n",
      "Downloading typing_inspection-0.4.1-py3-none-any.whl (14 kB)\n",
      "Installing collected packages: typing-inspection, pydantic-core, jiter, httpcore, distro, anyio, annotated-types, pydantic, httpx, openai\n",
      "Successfully installed annotated-types-0.7.0 anyio-4.9.0 distro-1.9.0 httpcore-1.0.9 httpx-0.28.1 jiter-0.10.0 openai-1.86.0 pydantic-2.11.5 pydantic-core-2.33.2 typing-inspection-0.4.1\n",
      "Note: you may need to restart the kernel to use updated packages.\n"
     ]
    },
    {
     "name": "stderr",
     "output_type": "stream",
     "text": [
      "\n",
      "[notice] A new release of pip is available: 24.0 -> 25.1.1\n",
      "[notice] To update, run: C:\\Users\\Meyrueis\\AppData\\Local\\Microsoft\\WindowsApps\\PythonSoftwareFoundation.Python.3.11_qbz5n2kfra8p0\\python.exe -m pip install --upgrade pip\n"
     ]
    }
   ],
   "source": [
    "pip install openai\n"
   ]
  }
 ],
 "metadata": {
  "kernelspec": {
   "display_name": "Python 3",
   "language": "python",
   "name": "python3"
  },
  "language_info": {
   "codemirror_mode": {
    "name": "ipython",
    "version": 3
   },
   "file_extension": ".py",
   "mimetype": "text/x-python",
   "name": "python",
   "nbconvert_exporter": "python",
   "pygments_lexer": "ipython3",
   "version": "3.11.9"
  }
 },
 "nbformat": 4,
 "nbformat_minor": 5
}
